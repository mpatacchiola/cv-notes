{
 "cells": [
  {
   "cell_type": "markdown",
   "metadata": {},
   "source": [
    "Edges\n",
    "====\n",
    "\n",
    "Edges in an image are discontinuities between nearby pixels. Edges occur at illumination boundaries. In this chapter the goal is to find a way to pass from an image $I$ to a a reduced version $I^{'}$ showing the edges of the original image. If we think of an image as a function in three dimensions, then what we are looking to are the cliffs. In the following images one of the cliff has been marked in red:\n",
    "\n",
    "<p align=\"center\">\n",
    "<img src=\"./etc/2_5_1.png\" width=\"700\">\n",
    "</p>"
   ]
  },
  {
   "cell_type": "markdown",
   "metadata": {},
   "source": [
    "Derivatives and edges\n",
    "------------------------\n",
    "\n",
    "The derivative gives the rate of change of a function. We can think of an edge as a point of rapid change in the local pixels of the image. If we look to the three-dimensional image from above, then we get that near the edges there is a dark central area (valley) and withe boundaries around (mountains). If we take a vertical cut of that valley (red line in the image below), then we see an U shape. The derivative of this U shape has maxima and minima exaclty where the edges are. The following image explains this concept:\n",
    "\n",
    "<p align=\"center\">\n",
    "<img src=\"./etc/2_5_2.png\" width=\"700\">\n",
    "</p>\n",
    "\n",
    "To apply the derivative we have to find a way to cast a differential operator inside a kernel, and move the kernel on top of the image. Before we have to see how the idea of gradient vector from calculus apply to an image."
   ]
  },
  {
   "cell_type": "markdown",
   "metadata": {},
   "source": [
    "Gradient of an image\n",
    "------------------------\n",
    "\n",
    "As we said before an image can be imagined as a function in a three-dimensional space, that takes as input the coordinate of the pixels $x$ and $y$ and returns the intensity of the pixel. In this sense we can use the tools of multi-variable calculus to deal with it. The gradient is then given by the partial derivatives of the two unknowns. The gradient component of $y$ is zero when the image goes from withe to dark (or viceversa) only on the $x$ axis. The opposite is also true. The following image shows the gradient vector components for three different images:\n",
    "\n",
    "<p align=\"center\">\n",
    "<img src=\"./etc/2_5_3.png\" width=\"700\">\n",
    "</p>\n",
    "\n",
    "The orientation is given by the angle $\\theta$ that is oriented on a standard Cartesian space.\n",
    "The most important information about the gradient vector is the direction and the magnitude, that are given by the following equations:\n",
    "\n",
    "<p align=\"center\">\n",
    "<img src=\"./etc/2_5_4.png\" width=\"700\">\n",
    "</p>\n",
    "\n",
    "When looking for edges we are looking for those gradient vectors having large magnitude.\n"
   ]
  },
  {
   "cell_type": "markdown",
   "metadata": {},
   "source": [
    "Discrete gradient\n",
    "------------------------\n",
    "\n",
    "The problem of applying the gradient on images is that images are not continuous functions. In a continuous domain the partial derivatives of a two-dimensional function are obtained via the limit. For instance the partial derivative of the function with respect to $x$ is obtained as follows:\n",
    "\n",
    "<p align=\"center\">\n",
    "<img src=\"./etc/2_5_5.png\" width=\"700\">\n",
    "</p>\n",
    "\n",
    "In the discrete version we can think of approximating this partial derivatives in another way. We can move of one pixel in the direction $x$ estimate the difference between the new position and the old position, this gives the partial derivative in the discrete case:\n",
    "\n",
    "<p align=\"center\">\n",
    "<img src=\"./etc/2_5_6.png\" width=\"700\">\n",
    "</p>"
   ]
  },
  {
   "cell_type": "markdown",
   "metadata": {},
   "source": [
    "Partial derivatives of an image\n",
    "------------------------------------\n",
    "\n",
    "Now we can use two filters to obtain the partial derivatives of an image in the two axes. Since the convention for the $x$ axis is zero on the left and one on the right, there is just one way to obtain the derivatives. However for the $y$ axis there are two conventions, with zero starting at the top (computational convention) or with the zero at the bottom (mathematical convention). For this reason there are two possible filters on the $y$ axis that can be used based on the adopted convention.\n",
    "\n",
    "<p align=\"center\">\n",
    "<img src=\"./etc/2_5_7.png\" width=\"700\">\n",
    "</p>\n",
    "\n",
    "It is possible to see that the partial derivative on the $x$ axis highlighted vertical bands, whereas the partial derivative on the $y$ axis highlighted horizontal bands.\n",
    "\n",
    "Now from the two partial derivatives we can get the magnitude of the gradient vector at each pixel, and represent it again as an image. This can be done taking the square of the two partial derivatives, sum them up, and evaluate the square root. This is the formula for estimating the gradient that has been showed in previous sections. The resulting image is showed below:\n",
    "\n",
    "<p align=\"center\">\n",
    "<img src=\"./etc/2_5_8.png\" width=\"300\">\n",
    "</p>"
   ]
  },
  {
   "cell_type": "markdown",
   "metadata": {},
   "source": [
    "Sobel operator\n",
    "-----------------\n",
    "\n",
    "Now it is necessary to cast what discussed previously into a proper operator or kernel that we can slide on top of the image in order to highligth the edges. We can think of adding the vectors $[-1,1]$ and $[-1,1]^{T}$ into the same kernel and take an average of those values:\n",
    "\n",
    "<p align=\"center\">\n",
    "<img src=\"./etc/2_5_9.png\" width=\"200\">\n",
    "</p>"
   ]
  },
  {
   "cell_type": "code",
   "execution_count": null,
   "metadata": {
    "collapsed": true
   },
   "outputs": [],
   "source": []
  }
 ],
 "metadata": {
  "kernelspec": {
   "display_name": "Python 2",
   "language": "python",
   "name": "python2"
  },
  "language_info": {
   "codemirror_mode": {
    "name": "ipython",
    "version": 2
   },
   "file_extension": ".py",
   "mimetype": "text/x-python",
   "name": "python",
   "nbconvert_exporter": "python",
   "pygments_lexer": "ipython2",
   "version": "2.7.6"
  }
 },
 "nbformat": 4,
 "nbformat_minor": 0
}
