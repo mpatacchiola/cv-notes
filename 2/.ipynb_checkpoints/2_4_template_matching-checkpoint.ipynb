{
 "cells": [
  {
   "cell_type": "markdown",
   "metadata": {},
   "source": [
    "Template matching\n",
    "---------------------\n",
    "\n",
    "Template matching can be tought of as moving a filter on top of an image. The filter is the template we are looking for in the image. The map resulting from applying a cross-correlation between the filter and the image will have a maximum where the template perfectly match the image. Here is an example in one dimension:\n",
    "\n",
    "<p align=\"center\">\n",
    "<img src=\"./etc/2_4_1.png\" width=\"700\">\n",
    "</p>"
   ]
  },
  {
   "cell_type": "markdown",
   "metadata": {},
   "source": [
    "Another example in two dimensions is the following:\n",
    "\n",
    "<p align=\"center\">\n",
    "<img src=\"./etc/2_4_2.png\" width=\"700\">\n",
    "</p>\n",
    "\n",
    "In this example the resulting map has a spike (the whiter pixel) in correspondence of the image-template matching point:\n",
    "\n",
    "<p align=\"center\">\n",
    "<img src=\"./etc/2_4_3.png\" width=\"700\">\n",
    "</p>\n",
    "\n",
    "The same result is obtained also when the template does not match perfectly with the target in the image. If template and target are similar the point of maximum activation will be correlatedin the resulting map."
   ]
  },
  {
   "cell_type": "code",
   "execution_count": null,
   "metadata": {
    "collapsed": true
   },
   "outputs": [],
   "source": []
  }
 ],
 "metadata": {
  "kernelspec": {
   "display_name": "Python 2",
   "language": "python",
   "name": "python2"
  },
  "language_info": {
   "codemirror_mode": {
    "name": "ipython",
    "version": 2
   },
   "file_extension": ".py",
   "mimetype": "text/x-python",
   "name": "python",
   "nbconvert_exporter": "python",
   "pygments_lexer": "ipython2",
   "version": "2.7.6"
  }
 },
 "nbformat": 4,
 "nbformat_minor": 0
}
